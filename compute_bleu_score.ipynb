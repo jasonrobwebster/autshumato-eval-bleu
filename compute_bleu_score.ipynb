{
 "cells": [
  {
   "cell_type": "code",
   "execution_count": 105,
   "metadata": {},
   "outputs": [],
   "source": [
    "import os\n",
    "import codecs\n",
    "import sacrebleu\n",
    "\n",
    "import numpy as np\n",
    "import pandas as pd"
   ]
  },
  {
   "cell_type": "code",
   "execution_count": 9,
   "metadata": {},
   "outputs": [
    {
     "data": {
      "text/plain": [
       "10"
      ]
     },
     "execution_count": 9,
     "metadata": {},
     "output_type": "execute_result"
    }
   ],
   "source": [
    "proc_dir = './data/processed/'\n",
    "languages = ['af', 'nr', 'zu', 'xh', 'nso', 'st', 'tn', 'ss', 've', 'ts']\n",
    "translators = ['translator1', 'translator2', 'translator3', 'translator4']\n",
    "len(languages)"
   ]
  },
  {
   "cell_type": "code",
   "execution_count": 83,
   "metadata": {},
   "outputs": [],
   "source": [
    "def load_all_translations(lang):\n",
    "    out = {}\n",
    "    for translator in translators:\n",
    "        fp = f\"{translator}.{lang}.txt\"\n",
    "        fp = os.path.join(proc_dir, fp)\n",
    "        with codecs.open(fp, 'r', encoding='utf-8') as f:\n",
    "            lines = f.readlines()\n",
    "            out[translator] = list(map(lambda x: x.strip(), lines))\n",
    "    return out\n",
    "    "
   ]
  },
  {
   "cell_type": "code",
   "execution_count": 102,
   "metadata": {},
   "outputs": [],
   "source": [
    "def calculate_bleu(translator, trans_dict):\n",
    "    ref_translators = list(set(translators).difference({translator}))\n",
    "    refs = list(trans_dict[i] for i in ref_translators)\n",
    "    sys = trans_dict[translator]\n",
    "    \n",
    "    return sacrebleu.corpus_bleu(sys, refs).score"
   ]
  },
  {
   "cell_type": "code",
   "execution_count": 103,
   "metadata": {},
   "outputs": [],
   "source": [
    "eng_translations = load_all_translations('en')"
   ]
  },
  {
   "cell_type": "code",
   "execution_count": null,
   "metadata": {},
   "outputs": [
    {
     "name": "stdout",
     "output_type": "stream",
     "text": [
      "af:\n",
      "\ttranslator1\n",
      "\t-----------\n",
      "\tScore: 76.76986445142002\n",
      "\n",
      "\ttranslator2\n",
      "\t-----------\n",
      "\tScore: 90.14196348687456\n",
      "\n",
      "\ttranslator3\n",
      "\t-----------\n",
      "\tScore: 81.49480654149953\n",
      "\n",
      "\ttranslator4\n",
      "\t-----------\n",
      "\tScore: 65.14309950878871\n",
      "\n",
      "----------------------\n",
      "nr:\n",
      "\ttranslator1\n",
      "\t-----------\n",
      "\tScore: 22.113736385159584\n",
      "\n",
      "\ttranslator2\n",
      "\t-----------\n",
      "\tScore: 19.165151808467147\n",
      "\n",
      "\ttranslator3\n",
      "\t-----------\n",
      "\tScore: 21.871423632239786\n",
      "\n",
      "\ttranslator4\n",
      "\t-----------\n",
      "\tScore: 22.35134527313277\n",
      "\n",
      "----------------------\n",
      "zu:\n",
      "\ttranslator1\n",
      "\t-----------\n",
      "\tScore: 22.96955748977736\n",
      "\n",
      "\ttranslator2\n",
      "\t-----------\n",
      "\tScore: 24.008443038541625\n",
      "\n",
      "\ttranslator3\n",
      "\t-----------\n",
      "\tScore: 22.24369679199224\n",
      "\n",
      "\ttranslator4\n",
      "\t-----------\n",
      "\tScore: 18.558022495221945\n",
      "\n",
      "----------------------\n",
      "xh:\n",
      "\ttranslator1\n",
      "\t-----------\n",
      "\tScore: 16.735573782049986\n",
      "\n",
      "\ttranslator2\n",
      "\t-----------\n",
      "\tScore: 18.122392502174005\n",
      "\n",
      "\ttranslator3\n",
      "\t-----------\n",
      "\tScore: 23.088689076859463\n",
      "\n",
      "\ttranslator4\n",
      "\t-----------\n",
      "\tScore: 22.146621328265475\n",
      "\n",
      "----------------------\n",
      "nso:\n",
      "\ttranslator1\n",
      "\t-----------\n",
      "\tScore: 50.57937976517921\n",
      "\n"
     ]
    }
   ],
   "source": [
    "bleu = pd.DataFrame()\n",
    "\n",
    "for lang in languages:\n",
    "    print(lang + ':')\n",
    "    lang_dict = load_all_translations(lang)\n",
    "    for translator in translators:\n",
    "        score = calculate_bleu(translator, lang_dict)\n",
    "        bleu.loc[lang, translator] = score\n",
    "        \n",
    "        print(f'\\t{translator}')\n",
    "        print('\\t' + '-'*len(translator))\n",
    "        print(f'\\tScore: {score}\\n')\n",
    "    print('----------------------')"
   ]
  },
  {
   "cell_type": "code",
   "execution_count": null,
   "metadata": {},
   "outputs": [],
   "source": []
  }
 ],
 "metadata": {
  "kernelspec": {
   "display_name": "Python 3",
   "language": "python",
   "name": "python3"
  },
  "language_info": {
   "codemirror_mode": {
    "name": "ipython",
    "version": 3
   },
   "file_extension": ".py",
   "mimetype": "text/x-python",
   "name": "python",
   "nbconvert_exporter": "python",
   "pygments_lexer": "ipython3",
   "version": "3.7.1"
  }
 },
 "nbformat": 4,
 "nbformat_minor": 2
}
